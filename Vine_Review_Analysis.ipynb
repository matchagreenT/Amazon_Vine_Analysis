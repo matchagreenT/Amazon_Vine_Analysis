{
  "nbformat": 4,
  "nbformat_minor": 0,
  "metadata": {
    "colab": {
      "name": "Vine_Review_Analysis.ipynb",
      "provenance": [],
      "collapsed_sections": []
    },
    "kernelspec": {
      "display_name": "PythonData",
      "language": "python",
      "name": "pythondata"
    },
    "language_info": {
      "codemirror_mode": {
        "name": "ipython",
        "version": 3
      },
      "file_extension": ".py",
      "mimetype": "text/x-python",
      "name": "python",
      "nbconvert_exporter": "python",
      "pygments_lexer": "ipython3",
      "version": "3.7.7"
    },
    "nteract": {
      "version": "0.12.3"
    }
  },
  "cells": [
    {
      "cell_type": "code",
      "metadata": {
        "id": "V58rxea0HqSa",
        "colab": {
          "base_uri": "https://localhost:8080/"
        },
        "outputId": "0ad4c6bb-c9ed-4fb3-d142-2a938c338898"
      },
      "source": [
        "import os\n",
        "# Find the latest version of spark 2.0  from http://www-us.apache.org/dist/spark/ and enter as the spark version\n",
        "# For example:\n",
        "# spark_version = 'spark-3.0.0'\n",
        "spark_version = 'spark-3.1.2'\n",
        "os.environ['SPARK_VERSION']=spark_version\n",
        "\n",
        "# Install Spark and Java\n",
        "!apt-get update\n",
        "!apt-get install openjdk-11-jdk-headless -qq > /dev/null\n",
        "!wget -q http://www-us.apache.org/dist/spark/$SPARK_VERSION/$SPARK_VERSION-bin-hadoop2.7.tgz\n",
        "!tar xf $SPARK_VERSION-bin-hadoop2.7.tgz\n",
        "!pip install -q findspark\n",
        "\n",
        "# Set Environment Variables\n",
        "import os\n",
        "os.environ[\"JAVA_HOME\"] = \"/usr/lib/jvm/java-11-openjdk-amd64\"\n",
        "os.environ[\"SPARK_HOME\"] = f\"/content/{spark_version}-bin-hadoop2.7\"\n",
        "\n",
        "# Start a SparkSession\n",
        "import findspark\n",
        "findspark.init()"
      ],
      "execution_count": 1,
      "outputs": [
        {
          "output_type": "stream",
          "text": [
            "Hit:1 https://cloud.r-project.org/bin/linux/ubuntu bionic-cran40/ InRelease\n",
            "Ign:2 https://developer.download.nvidia.com/compute/cuda/repos/ubuntu1804/x86_64  InRelease\n",
            "Get:3 http://security.ubuntu.com/ubuntu bionic-security InRelease [88.7 kB]\n",
            "Ign:4 https://developer.download.nvidia.com/compute/machine-learning/repos/ubuntu1804/x86_64  InRelease\n",
            "Hit:5 http://ppa.launchpad.net/c2d4u.team/c2d4u4.0+/ubuntu bionic InRelease\n",
            "Get:6 https://developer.download.nvidia.com/compute/cuda/repos/ubuntu1804/x86_64  Release [697 B]\n",
            "Hit:7 https://developer.download.nvidia.com/compute/machine-learning/repos/ubuntu1804/x86_64  Release\n",
            "Get:8 https://developer.download.nvidia.com/compute/cuda/repos/ubuntu1804/x86_64  Release.gpg [836 B]\n",
            "Hit:9 http://archive.ubuntu.com/ubuntu bionic InRelease\n",
            "Get:11 http://archive.ubuntu.com/ubuntu bionic-updates InRelease [88.7 kB]\n",
            "Hit:12 http://ppa.launchpad.net/cran/libgit2/ubuntu bionic InRelease\n",
            "Ign:13 https://developer.download.nvidia.com/compute/cuda/repos/ubuntu1804/x86_64  Packages\n",
            "Get:13 https://developer.download.nvidia.com/compute/cuda/repos/ubuntu1804/x86_64  Packages [599 kB]\n",
            "Get:14 http://ppa.launchpad.net/deadsnakes/ppa/ubuntu bionic InRelease [15.9 kB]\n",
            "Get:15 http://archive.ubuntu.com/ubuntu bionic-backports InRelease [74.6 kB]\n",
            "Get:16 http://security.ubuntu.com/ubuntu bionic-security/main amd64 Packages [2,185 kB]\n",
            "Hit:17 http://ppa.launchpad.net/graphics-drivers/ppa/ubuntu bionic InRelease\n",
            "Get:18 http://archive.ubuntu.com/ubuntu bionic-updates/universe amd64 Packages [2,185 kB]\n",
            "Get:19 http://ppa.launchpad.net/deadsnakes/ppa/ubuntu bionic/main amd64 Packages [40.9 kB]\n",
            "Get:20 http://security.ubuntu.com/ubuntu bionic-security/universe amd64 Packages [1,415 kB]\n",
            "Get:21 http://archive.ubuntu.com/ubuntu bionic-updates/main amd64 Packages [2,619 kB]\n",
            "Fetched 9,312 kB in 4s (2,269 kB/s)\n",
            "Reading package lists... Done\n"
          ],
          "name": "stdout"
        }
      ]
    },
    {
      "cell_type": "code",
      "metadata": {
        "id": "_xKwTpATHqSe",
        "colab": {
          "base_uri": "https://localhost:8080/"
        },
        "outputId": "241d0a4d-149a-43f7-cfc6-a3065df27ece"
      },
      "source": [
        "# Download the Postgres driver that will allow Spark to interact with Postgres.\n",
        "!wget https://jdbc.postgresql.org/download/postgresql-42.2.16.jar"
      ],
      "execution_count": 2,
      "outputs": [
        {
          "output_type": "stream",
          "text": [
            "--2021-06-20 23:54:06--  https://jdbc.postgresql.org/download/postgresql-42.2.16.jar\n",
            "Resolving jdbc.postgresql.org (jdbc.postgresql.org)... 72.32.157.228, 2001:4800:3e1:1::228\n",
            "Connecting to jdbc.postgresql.org (jdbc.postgresql.org)|72.32.157.228|:443... connected.\n",
            "HTTP request sent, awaiting response... 200 OK\n",
            "Length: 1002883 (979K) [application/java-archive]\n",
            "Saving to: ‘postgresql-42.2.16.jar’\n",
            "\n",
            "postgresql-42.2.16. 100%[===================>] 979.38K  1.21MB/s    in 0.8s    \n",
            "\n",
            "2021-06-20 23:54:08 (1.21 MB/s) - ‘postgresql-42.2.16.jar’ saved [1002883/1002883]\n",
            "\n"
          ],
          "name": "stdout"
        }
      ]
    },
    {
      "cell_type": "code",
      "metadata": {
        "id": "MMqDAjVS0KN9"
      },
      "source": [
        "from pyspark.sql import SparkSession\n",
        "spark = SparkSession.builder.appName(\"BigData-Challenge\").config(\"spark.driver.extraClassPath\",\"/content/postgresql-42.2.16.jar\").getOrCreate()"
      ],
      "execution_count": 3,
      "outputs": []
    },
    {
      "cell_type": "markdown",
      "metadata": {
        "id": "cyBsySGuY-9V"
      },
      "source": [
        "### Load Amazon Data into Spark DataFrame"
      ]
    },
    {
      "cell_type": "code",
      "metadata": {
        "id": "CtCmBhQJY-9Z",
        "colab": {
          "base_uri": "https://localhost:8080/"
        },
        "outputId": "452b599f-49f5-46f6-8eee-cd481c78885b"
      },
      "source": [
        "from pyspark import SparkFiles\n",
        "url = \"https://s3.amazonaws.com/amazon-reviews-pds/tsv/amazon_reviews_us_Mobile_Electronics_v1_00.tsv.gz\"\n",
        "spark.sparkContext.addFile(url)\n",
        "df = spark.read.option(\"encoding\", \"UTF-8\").csv(SparkFiles.get(\"\"), sep=\"\\t\", header=True, inferSchema=True)\n",
        "df.show()"
      ],
      "execution_count": 4,
      "outputs": [
        {
          "output_type": "stream",
          "text": [
            "+-----------+-----------+--------------+----------+--------------+--------------------+------------------+-----------+-------------+-----------+----+-----------------+--------------------+--------------------+-----------+\n",
            "|marketplace|customer_id|     review_id|product_id|product_parent|       product_title|  product_category|star_rating|helpful_votes|total_votes|vine|verified_purchase|     review_headline|         review_body|review_date|\n",
            "+-----------+-----------+--------------+----------+--------------+--------------------+------------------+-----------+-------------+-----------+----+-----------------+--------------------+--------------------+-----------+\n",
            "|         US|   20422322| R8MEA6IGAHO0B|B00MC4CED8|     217304173|BlackVue DR600GW-PMP|Mobile_Electronics|          5|            0|          0|   N|                Y|         Very Happy!|As advertised. Ev...| 2015-08-31|\n",
            "|         US|   40835037|R31LOQ8JGLPRLK|B00OQMFG1Q|     137313254|GENSSI GSM / GPS ...|Mobile_Electronics|          5|            0|          1|   N|                Y|           five star|          it's great| 2015-08-31|\n",
            "|         US|   51469641|R2Y0MM9YE6OP3P|B00QERR5CY|      82850235|iXCC Multi pack L...|Mobile_Electronics|          5|            0|          0|   N|                Y|        great cables|These work great ...| 2015-08-31|\n",
            "|         US|    4332923| RRB9C05HDOD4O|B00QUFTPV4|     221169481|abcGoodefg® FBI C...|Mobile_Electronics|          4|            0|          0|   N|                Y|Work very well bu...|Work very well bu...| 2015-08-31|\n",
            "|         US|   44855305|R26I2RI1GFV8QG|B0067XVNTG|     563475445|Generic Car Dashb...|Mobile_Electronics|          2|            0|          0|   N|                Y|Cameras has batte...|Be careful with t...| 2015-08-31|\n",
            "|         US|    7846966| RY8DDL22YG4R5|B00KA6CCVY|     713636156|Aweek® Air Acoust...|Mobile_Electronics|          3|            0|          1|   N|                Y|It appears to be ...|It appears to be ...| 2015-08-31|\n",
            "|         US|   21299354|R2AT2426ZHFUHH|B00MJCDPM2|     754171872|Sentey LS-4460 B-...|Mobile_Electronics|          3|            0|          1|   N|                Y|Didn't love the f...|First one arrived...| 2015-08-31|\n",
            "|         US|   28902968|R3RRXU2R23NMQ9|B00ET5AWBY|     508373185|iPad Car Headrest...|Mobile_Electronics|          5|            0|          0|   N|                Y|          Five Stars|Worked great for ...| 2015-08-31|\n",
            "|         US|    2074438|R250PR8VJUZ62F|B00Z9K379C|     759387370|ANWING Waterproof...|Mobile_Electronics|          4|            0|          2|   N|                Y|          Four Stars|this is a very go...| 2015-08-31|\n",
            "|         US|   48701722| RBEMQ29WJBHYG|B00YO3UYXW|     913911909|Jensen MCR-100 Ca...|Mobile_Electronics|          5|          164|        168|   N|                Y|  I LOVE my recorder|I LOVE my recorde...| 2015-08-31|\n",
            "|         US|    2990247|R19VVIUT4BZCMT|B011W26BU2|     938399424|Bluetooth Speaker...|Mobile_Electronics|          5|            2|          2|   N|                Y|          Five Stars|Great sound great...| 2015-08-31|\n",
            "|         US|   52946117|R1DT8JJUQHUKUL|B00H8PI78C|     661515294|15Pcs DC 5V 85dB ...|Mobile_Electronics|          3|            0|          1|   N|                Y|More of a beeper ...|If what you want ...| 2015-08-31|\n",
            "|         US|   49359994| RLIL6S9OGM3YA|B00M49C6MK|      91176851|      Sentey Ls 4162|Mobile_Electronics|          5|            0|          0|   N|                Y|          Five Stars|             Love it| 2015-08-31|\n",
            "|         US|    4158732|R34EZZ68VYPHO0|B011Q291PK|     891142775|IcePACK 8 Can Ins...|Mobile_Electronics|          1|            1|          1|   N|                Y|            One Star|               Sucks| 2015-08-31|\n",
            "|         US|   18944032|R3TZNSOXS13SIG|B00W6OLUGQ|     577462547|DTK® AMI MDI MMI ...|Mobile_Electronics|          2|            1|          3|   N|                Y|           Two Stars|u need to plug in...| 2015-08-31|\n",
            "|         US|     279606|R12UBZT87UX3AP|B008MY1F8W|     680240984|INPA K+CAN K+DCAN...|Mobile_Electronics|          5|            2|          2|   N|                Y|          Five Stars|Worked with MHD F...| 2015-08-31|\n",
            "|         US|   10947966| R5KCRE927NYMU|B00KW3XNUE|     219920841|Magicfly Wireless...|Mobile_Electronics|          2|            0|          0|   N|                N|Battery Cover Poo...|Just arrived,  re...| 2015-08-31|\n",
            "|         US|   18387442| RT12RQFU0V2AX|B009NGR0AK|     254898339|Humminbird XNT 9 ...|Mobile_Electronics|          5|            1|          1|   N|                Y|        Works great.|I bought this uni...| 2015-08-31|\n",
            "|         US|   48950322|R2K0YQPV5W2SJ1|B011W26BU2|     938399424|Bluetooth Speaker...|Mobile_Electronics|          4|            2|          2|   N|                Y|A Lot of Sound In...|I am giving the s...| 2015-08-31|\n",
            "|         US|   48148197|R104MY31OKNGXH|B00PAP68WO|     366592530|Foxnovo 3.7V 380m...|Mobile_Electronics|          5|            0|          0|   N|                Y|          Five Stars|Met my applicatio...| 2015-08-31|\n",
            "+-----------+-----------+--------------+----------+--------------+--------------------+------------------+-----------+-------------+-----------+----+-----------------+--------------------+--------------------+-----------+\n",
            "only showing top 20 rows\n",
            "\n"
          ],
          "name": "stdout"
        }
      ]
    },
    {
      "cell_type": "code",
      "metadata": {
        "id": "B0TESUDRY-90"
      },
      "source": [
        "#  Filter dataset for total_votes being greater that/ equal to 20\n",
        "vine_df = df.select([\"review_id\", \"star_rating\", \"helpful_votes\", \"total_votes\", \"vine\", \"verified_purchase\"])\n",
        "vote_count = df.filter(\"total_votes >= 20\")"
      ],
      "execution_count": 5,
      "outputs": []
    },
    {
      "cell_type": "code",
      "metadata": {
        "id": "4FwXA6UvY-96",
        "colab": {
          "base_uri": "https://localhost:8080/"
        },
        "outputId": "5863bb95-113f-4d09-a1d1-81242b0a6d2b"
      },
      "source": [
        "# Create the products_table DataFrame and drop duplicates. \n",
        "new_table = vote_count.filter(vote_count[\"helpful_votes\"]/vote_count[\"total_votes\"]>=0.5)\n",
        "new_table.show()"
      ],
      "execution_count": 6,
      "outputs": [
        {
          "output_type": "stream",
          "text": [
            "+-----------+-----------+--------------+----------+--------------+--------------------+------------------+-----------+-------------+-----------+----+-----------------+--------------------+--------------------+-----------+\n",
            "|marketplace|customer_id|     review_id|product_id|product_parent|       product_title|  product_category|star_rating|helpful_votes|total_votes|vine|verified_purchase|     review_headline|         review_body|review_date|\n",
            "+-----------+-----------+--------------+----------+--------------+--------------------+------------------+-----------+-------------+-----------+----+-----------------+--------------------+--------------------+-----------+\n",
            "|         US|   48701722| RBEMQ29WJBHYG|B00YO3UYXW|     913911909|Jensen MCR-100 Ca...|Mobile_Electronics|          5|          164|        168|   N|                Y|  I LOVE my recorder|I LOVE my recorde...| 2015-08-31|\n",
            "|         US|   25750755|R13W3EMIUV120L|B00YO3UYXW|     913911909|Jensen MCR-100 Ca...|Mobile_Electronics|          4|          288|        294|   N|                Y|The Jensen MCR-10...|I recently purcha...| 2015-08-28|\n",
            "|         US|   26155827|R30TJ8POYNVCRE|B00TQ0G130|       9677699|Coby ALL NEW 2.5\"...|Mobile_Electronics|          5|           15|         21|   N|                N|            dash cam|Great product, lo...| 2015-08-27|\n",
            "|         US|   29092404|R1LK03P7BCJEJD|B00YO3UYXW|     913911909|Jensen MCR-100 Ca...|Mobile_Electronics|          1|           31|         35|   N|                Y|            One Star|Playback is disto...| 2015-08-22|\n",
            "|         US|   33177916| RBXUICKGHL685|B00YO3UYXW|     913911909|Jensen MCR-100 Ca...|Mobile_Electronics|          1|           48|         52|   N|                N|Chewed up within ...|Terrible!!  Chewe...| 2015-08-21|\n",
            "|         US|   42331191|R2E16WLZKP78GO|B00TQYCU0Y|     328706129|Garmin nüvi 65LM ...|Mobile_Electronics|          5|           19|         21|   N|                Y|           Satisfied|Garmin nuvi 65lm ...| 2015-08-20|\n",
            "|         US|    3913139|R1EN4PGQIFSENW|B00LAG4HN4|     536367292|iXCC Element II L...|Mobile_Electronics|          5|           27|         28|   N|                Y|I've bought 4 of ...|So we've all had ...| 2015-08-10|\n",
            "|         US|   43755322| RXZWQU66AHIYG|B00TQYEONA|     376434637|Garmin dezl 760LM...|Mobile_Electronics|          5|           24|         25|   N|                Y|THE BEST UNIT I H...|Today 8/10/2015 w...| 2015-08-10|\n",
            "|         US|   45886406|R2IXCZCSUKH8FB|B00CJZLHN8|     869734493|Apple Ipod Nano 7...|Mobile_Electronics|          3|           78|         82|   N|                Y|Still limited to ...|As many other rev...| 2015-08-04|\n",
            "|         US|    3120094|R25RB38U9LL8OE|B010W4OF4K|     649814137|Escort Passport X...|Mobile_Electronics|          5|           24|         29|   N|                Y|best radar detect...|We have owned man...| 2015-08-04|\n",
            "|         US|   40159163| RSHPPH6BRXYRS|B00QMMBXA6|     827642739|Tomtom VIA 1515M ...|Mobile_Electronics|          2|           42|         48|   N|                N|     Not Recommended|This is my third ...| 2015-07-22|\n",
            "|         US|    6867529|R39HYCYEWFZP3B|B00Y2100OO|     161663398|LiteXim All in On...|Mobile_Electronics|          5|           36|         36|   N|                N|Awesome mp3/mp4 P...|[[VIDEOID:1a66cff...| 2015-07-22|\n",
            "|         US|   26362086|R2C68DIKTG0M7W|B00TQYCU0Y|     328706129|Garmin nüvi 65LM ...|Mobile_Electronics|          5|           18|         20|   N|                Y|      Love this GPS!|I have only used ...| 2015-07-20|\n",
            "|         US|   34123746|R2I6O4S2CZK8WQ|B00EDM5WV8|     998105706|SPOT-3O Spot Gen3...|Mobile_Electronics|          1|          175|        181|   N|                Y|Failed after firs...|I've had a spot t...| 2015-07-20|\n",
            "|         US|   18226253|R1EPU8R4MVRIQ7|B00XJJU4SC|     965917258|Juentai JT-6188 D...|Mobile_Electronics|          4|           21|         22|   N|                Y|Nice little dual ...|These are pretty ...| 2015-07-19|\n",
            "|         US|   48531577|R1AL1OVEHNX5JC|B010P73G76|     995824709|Phtronics 2015 La...|Mobile_Electronics|          5|           19|         22|   N|                Y|This is a great m...|This is a great m...| 2015-07-15|\n",
            "|         US|   10044506| RVE1FMV48N1ZD|B00VU7PKZW|     595921774|iXCC Element Seri...|Mobile_Electronics|          5|           37|         41|   N|                N|Good solid constr...|Quality product w...| 2015-07-14|\n",
            "|         US|   14080076| R6SR9BXDPIYMZ|B00TQYCU0Y|     328706129|Garmin nüvi 65LM ...|Mobile_Electronics|          5|           51|         57|   N|                Y|Fast delivery.  R...|This refurbed 6&#...| 2015-07-10|\n",
            "|         US|   28150579|R1JQPDB1WJ4CKV|B00OYVJLZQ|     312846790|Pioneer AVH-X7700...|Mobile_Electronics|          3|           25|         26|   N|                N|Basic MirrorLink ...|I would give this...| 2015-07-05|\n",
            "|         US|   47211331|R3L7LS0NW1L6PQ|B00J46XO9U|     744008282|iXCC Lightning Ca...|Mobile_Electronics|          5|           97|        101|   N|                Y|A less expensive ...|I use this cable ...| 2015-06-24|\n",
            "+-----------+-----------+--------------+----------+--------------+--------------------+------------------+-----------+-------------+-----------+----+-----------------+--------------------+--------------------+-----------+\n",
            "only showing top 20 rows\n",
            "\n"
          ],
          "name": "stdout"
        }
      ]
    },
    {
      "cell_type": "code",
      "metadata": {
        "id": "Exuo6ebUsCqW",
        "colab": {
          "base_uri": "https://localhost:8080/"
        },
        "outputId": "1f76660e-643e-4df2-d3e5-ff53a345ca7d"
      },
      "source": [
        "# create a new DataFrame or table that retrieves all the rows where a review was written as part of the Vine program (paid), vine == 'Y'\n",
        "new_table.filter(new_table[\"vine\"] == \"Y\").show()"
      ],
      "execution_count": 7,
      "outputs": [
        {
          "output_type": "stream",
          "text": [
            "+-----------+-----------+--------------+----------+--------------+--------------------+------------------+-----------+-------------+-----------+----+-----------------+--------------------+--------------------+-----------+\n",
            "|marketplace|customer_id|     review_id|product_id|product_parent|       product_title|  product_category|star_rating|helpful_votes|total_votes|vine|verified_purchase|     review_headline|         review_body|review_date|\n",
            "+-----------+-----------+--------------+----------+--------------+--------------------+------------------+-----------+-------------+-----------+----+-----------------+--------------------+--------------------+-----------+\n",
            "|         US|   52490988|R3BOQTLUU3Y4L8|B00EP0SIOG|     628459233|Orbotix Sphero 2....|Mobile_Electronics|          4|           42|         55|   Y|                N|Lot of fun, but f...|Before receiving ...| 2013-11-19|\n",
            "|         US|   48814959| RWF03LXVXC22A|B00EP0SIOG|     628459233|Orbotix Sphero 2....|Mobile_Electronics|          3|          396|        445|   Y|                N|The coolest thing...|***** Update 12/3...| 2013-11-06|\n",
            "|         US|   34641748| REPU28WG1VZUE|B00EP0SIOG|     628459233|Orbotix Sphero 2....|Mobile_Electronics|          5|          242|        281|   Y|                N|The funest new to...|...or at least I ...| 2013-10-24|\n",
            "|         US|   52477683|R1D6REC9HPJVQY|B00EP0SIOG|     628459233|Orbotix Sphero 2....|Mobile_Electronics|          4|           31|         41|   Y|                N|Fun toy for kids,...|This new version ...| 2013-10-21|\n",
            "+-----------+-----------+--------------+----------+--------------+--------------------+------------------+-----------+-------------+-----------+----+-----------------+--------------------+--------------------+-----------+\n",
            "\n"
          ],
          "name": "stdout"
        }
      ]
    },
    {
      "cell_type": "code",
      "metadata": {
        "colab": {
          "base_uri": "https://localhost:8080/"
        },
        "id": "Qkki00pG8SHO",
        "outputId": "1a945120-827c-470b-daa2-7282e606df68"
      },
      "source": [
        "#create a new DataFrame or table that retrieves all the rows where a review was written as part of the Vine program (unpaid), vine == 'N'\n",
        "new_table.filter(new_table[\"vine\"] == \"N\").show()"
      ],
      "execution_count": 8,
      "outputs": [
        {
          "output_type": "stream",
          "text": [
            "+-----------+-----------+--------------+----------+--------------+--------------------+------------------+-----------+-------------+-----------+----+-----------------+--------------------+--------------------+-----------+\n",
            "|marketplace|customer_id|     review_id|product_id|product_parent|       product_title|  product_category|star_rating|helpful_votes|total_votes|vine|verified_purchase|     review_headline|         review_body|review_date|\n",
            "+-----------+-----------+--------------+----------+--------------+--------------------+------------------+-----------+-------------+-----------+----+-----------------+--------------------+--------------------+-----------+\n",
            "|         US|   48701722| RBEMQ29WJBHYG|B00YO3UYXW|     913911909|Jensen MCR-100 Ca...|Mobile_Electronics|          5|          164|        168|   N|                Y|  I LOVE my recorder|I LOVE my recorde...| 2015-08-31|\n",
            "|         US|   25750755|R13W3EMIUV120L|B00YO3UYXW|     913911909|Jensen MCR-100 Ca...|Mobile_Electronics|          4|          288|        294|   N|                Y|The Jensen MCR-10...|I recently purcha...| 2015-08-28|\n",
            "|         US|   26155827|R30TJ8POYNVCRE|B00TQ0G130|       9677699|Coby ALL NEW 2.5\"...|Mobile_Electronics|          5|           15|         21|   N|                N|            dash cam|Great product, lo...| 2015-08-27|\n",
            "|         US|   29092404|R1LK03P7BCJEJD|B00YO3UYXW|     913911909|Jensen MCR-100 Ca...|Mobile_Electronics|          1|           31|         35|   N|                Y|            One Star|Playback is disto...| 2015-08-22|\n",
            "|         US|   33177916| RBXUICKGHL685|B00YO3UYXW|     913911909|Jensen MCR-100 Ca...|Mobile_Electronics|          1|           48|         52|   N|                N|Chewed up within ...|Terrible!!  Chewe...| 2015-08-21|\n",
            "|         US|   42331191|R2E16WLZKP78GO|B00TQYCU0Y|     328706129|Garmin nüvi 65LM ...|Mobile_Electronics|          5|           19|         21|   N|                Y|           Satisfied|Garmin nuvi 65lm ...| 2015-08-20|\n",
            "|         US|    3913139|R1EN4PGQIFSENW|B00LAG4HN4|     536367292|iXCC Element II L...|Mobile_Electronics|          5|           27|         28|   N|                Y|I've bought 4 of ...|So we've all had ...| 2015-08-10|\n",
            "|         US|   43755322| RXZWQU66AHIYG|B00TQYEONA|     376434637|Garmin dezl 760LM...|Mobile_Electronics|          5|           24|         25|   N|                Y|THE BEST UNIT I H...|Today 8/10/2015 w...| 2015-08-10|\n",
            "|         US|   45886406|R2IXCZCSUKH8FB|B00CJZLHN8|     869734493|Apple Ipod Nano 7...|Mobile_Electronics|          3|           78|         82|   N|                Y|Still limited to ...|As many other rev...| 2015-08-04|\n",
            "|         US|    3120094|R25RB38U9LL8OE|B010W4OF4K|     649814137|Escort Passport X...|Mobile_Electronics|          5|           24|         29|   N|                Y|best radar detect...|We have owned man...| 2015-08-04|\n",
            "|         US|   40159163| RSHPPH6BRXYRS|B00QMMBXA6|     827642739|Tomtom VIA 1515M ...|Mobile_Electronics|          2|           42|         48|   N|                N|     Not Recommended|This is my third ...| 2015-07-22|\n",
            "|         US|    6867529|R39HYCYEWFZP3B|B00Y2100OO|     161663398|LiteXim All in On...|Mobile_Electronics|          5|           36|         36|   N|                N|Awesome mp3/mp4 P...|[[VIDEOID:1a66cff...| 2015-07-22|\n",
            "|         US|   26362086|R2C68DIKTG0M7W|B00TQYCU0Y|     328706129|Garmin nüvi 65LM ...|Mobile_Electronics|          5|           18|         20|   N|                Y|      Love this GPS!|I have only used ...| 2015-07-20|\n",
            "|         US|   34123746|R2I6O4S2CZK8WQ|B00EDM5WV8|     998105706|SPOT-3O Spot Gen3...|Mobile_Electronics|          1|          175|        181|   N|                Y|Failed after firs...|I've had a spot t...| 2015-07-20|\n",
            "|         US|   18226253|R1EPU8R4MVRIQ7|B00XJJU4SC|     965917258|Juentai JT-6188 D...|Mobile_Electronics|          4|           21|         22|   N|                Y|Nice little dual ...|These are pretty ...| 2015-07-19|\n",
            "|         US|   48531577|R1AL1OVEHNX5JC|B010P73G76|     995824709|Phtronics 2015 La...|Mobile_Electronics|          5|           19|         22|   N|                Y|This is a great m...|This is a great m...| 2015-07-15|\n",
            "|         US|   10044506| RVE1FMV48N1ZD|B00VU7PKZW|     595921774|iXCC Element Seri...|Mobile_Electronics|          5|           37|         41|   N|                N|Good solid constr...|Quality product w...| 2015-07-14|\n",
            "|         US|   14080076| R6SR9BXDPIYMZ|B00TQYCU0Y|     328706129|Garmin nüvi 65LM ...|Mobile_Electronics|          5|           51|         57|   N|                Y|Fast delivery.  R...|This refurbed 6&#...| 2015-07-10|\n",
            "|         US|   28150579|R1JQPDB1WJ4CKV|B00OYVJLZQ|     312846790|Pioneer AVH-X7700...|Mobile_Electronics|          3|           25|         26|   N|                N|Basic MirrorLink ...|I would give this...| 2015-07-05|\n",
            "|         US|   47211331|R3L7LS0NW1L6PQ|B00J46XO9U|     744008282|iXCC Lightning Ca...|Mobile_Electronics|          5|           97|        101|   N|                Y|A less expensive ...|I use this cable ...| 2015-06-24|\n",
            "+-----------+-----------+--------------+----------+--------------+--------------------+------------------+-----------+-------------+-----------+----+-----------------+--------------------+--------------------+-----------+\n",
            "only showing top 20 rows\n",
            "\n"
          ],
          "name": "stdout"
        }
      ]
    },
    {
      "cell_type": "code",
      "metadata": {
        "colab": {
          "base_uri": "https://localhost:8080/"
        },
        "id": "ixon-hzf8R-d",
        "outputId": "1b82b255-04e3-46b4-a7c5-ad94f379739e"
      },
      "source": [
        "# determine the number of 5 star reviews\n",
        "five_star = new_table.filter(new_table[\"star_rating\"] == 5)\n",
        "five_star.cache()"
      ],
      "execution_count": 13,
      "outputs": [
        {
          "output_type": "execute_result",
          "data": {
            "text/plain": [
              "DataFrame[marketplace: string, customer_id: int, review_id: string, product_id: string, product_parent: int, product_title: string, product_category: string, star_rating: int, helpful_votes: int, total_votes: int, vine: string, verified_purchase: string, review_headline: string, review_body: string, review_date: string]"
            ]
          },
          "metadata": {
            "tags": []
          },
          "execution_count": 13
        }
      ]
    },
    {
      "cell_type": "code",
      "metadata": {
        "colab": {
          "base_uri": "https://localhost:8080/"
        },
        "id": "4ClOEwLL8IRW",
        "outputId": "c9b1bc4b-a401-4456-d103-9c72cf3f36ef"
      },
      "source": [
        "# five star count\n",
        "five_star.count()"
      ],
      "execution_count": 12,
      "outputs": [
        {
          "output_type": "execute_result",
          "data": {
            "text/plain": [
              "528"
            ]
          },
          "metadata": {
            "tags": []
          },
          "execution_count": 12
        }
      ]
    },
    {
      "cell_type": "code",
      "metadata": {
        "colab": {
          "base_uri": "https://localhost:8080/"
        },
        "id": "ryQN-nClBKmh",
        "outputId": "0a03d1a2-8ae4-459d-d7ea-14ba1198f718"
      },
      "source": [
        "# Non five star count\n",
        "new_table.count()-five_star.count()"
      ],
      "execution_count": 21,
      "outputs": [
        {
          "output_type": "execute_result",
          "data": {
            "text/plain": [
              "540"
            ]
          },
          "metadata": {
            "tags": []
          },
          "execution_count": 21
        }
      ]
    },
    {
      "cell_type": "code",
      "metadata": {
        "colab": {
          "base_uri": "https://localhost:8080/"
        },
        "id": "jb5nbADd868T",
        "outputId": "1204f746-a988-4076-8c7b-71b36c824ecf"
      },
      "source": [
        "# total number of reviews\n",
        "new_table.count()"
      ],
      "execution_count": 14,
      "outputs": [
        {
          "output_type": "execute_result",
          "data": {
            "text/plain": [
              "1068"
            ]
          },
          "metadata": {
            "tags": []
          },
          "execution_count": 14
        }
      ]
    },
    {
      "cell_type": "code",
      "metadata": {
        "colab": {
          "base_uri": "https://localhost:8080/"
        },
        "id": "oWXslsAZ9PdT",
        "outputId": "2809441a-9a2e-49f1-f320-3823586fffd8"
      },
      "source": [
        "# Percentage of 5 star reviews\n",
        "five_star.count()/new_table.count()*100"
      ],
      "execution_count": 15,
      "outputs": [
        {
          "output_type": "execute_result",
          "data": {
            "text/plain": [
              "49.43820224719101"
            ]
          },
          "metadata": {
            "tags": []
          },
          "execution_count": 15
        }
      ]
    },
    {
      "cell_type": "code",
      "metadata": {
        "colab": {
          "base_uri": "https://localhost:8080/"
        },
        "id": "d47TTe5-B1qz",
        "outputId": "b690699e-510d-426c-a5a4-271b7a11f1c4"
      },
      "source": [
        "# percentage of non-5 star reviews\n",
        "100-five_star.count()/new_table.count()*100"
      ],
      "execution_count": 22,
      "outputs": [
        {
          "output_type": "execute_result",
          "data": {
            "text/plain": [
              "50.56179775280899"
            ]
          },
          "metadata": {
            "tags": []
          },
          "execution_count": 22
        }
      ]
    },
    {
      "cell_type": "code",
      "metadata": {
        "colab": {
          "base_uri": "https://localhost:8080/"
        },
        "id": "eUCJxpVf9deq",
        "outputId": "5b9bf0eb-1cf0-463d-ed46-4eb6b2be9a85"
      },
      "source": [
        "five_star.filter(five_star[\"verified_purchase\"] == \"Y\").count()/ new_table.filter(new_table[\"verified_purchase\"] == \"Y\").count()*100"
      ],
      "execution_count": 19,
      "outputs": [
        {
          "output_type": "execute_result",
          "data": {
            "text/plain": [
              "50.52005943536404"
            ]
          },
          "metadata": {
            "tags": []
          },
          "execution_count": 19
        }
      ]
    },
    {
      "cell_type": "code",
      "metadata": {
        "colab": {
          "base_uri": "https://localhost:8080/"
        },
        "id": "tb_-R2p59wE6",
        "outputId": "b96ba2fe-15f6-48ee-fd79-280a47a9a7b1"
      },
      "source": [
        "five_star.filter(five_star[\"verified_purchase\"] == \"N\").count()/ new_table.filter(new_table[\"verified_purchase\"] == \"N\").count()*100"
      ],
      "execution_count": 20,
      "outputs": [
        {
          "output_type": "execute_result",
          "data": {
            "text/plain": [
              "47.59493670886076"
            ]
          },
          "metadata": {
            "tags": []
          },
          "execution_count": 20
        }
      ]
    },
    {
      "cell_type": "code",
      "metadata": {
        "id": "MXSgtw_s-EIy"
      },
      "source": [
        ""
      ],
      "execution_count": null,
      "outputs": []
    }
  ]
}